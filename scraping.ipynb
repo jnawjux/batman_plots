{
 "cells": [
  {
   "cell_type": "code",
   "execution_count": 92,
   "metadata": {},
   "outputs": [],
   "source": [
    "import pandas as pd\n",
    "import numpy as np\n",
    "from selenium.webdriver import Chrome\n",
    "from bs4 import BeautifulSoup\n",
    "import requests\n",
    "import time"
   ]
  },
  {
   "cell_type": "markdown",
   "metadata": {},
   "source": [
    "## Scraping for Batman TV Show episode details\n",
    "For this part of the project, I am going to focus on getting plot summaries from the 1960's Batman TV series.  I will be using the plot summaries to build a fine-tuned GPT-2 model to create unique plots to new Batman episodes."
   ]
  },
  {
   "cell_type": "code",
   "execution_count": 198,
   "metadata": {},
   "outputs": [],
   "source": [
    "# Used Selenium to extract links from page\n",
    "browser = Chrome()\n",
    "\n",
    "url = \"https://batman.fandom.com/wiki/List_of_Batman_(1960s_series)_Episodes\"\n",
    "\n",
    "browser.get(url)\n",
    "\n",
    "# Get links for all episodes\n",
    "all_episodes = [link.get_attribute('href') for link in \\\n",
    "                browser.find_elements_by_css_selector('#mw-content-text > p > a')]"
   ]
  },
  {
   "cell_type": "code",
   "execution_count": 199,
   "metadata": {},
   "outputs": [
    {
     "data": {
      "text/plain": [
       "['https://batman.fandom.com/wiki/Batman_(1960s_series)',\n",
       " 'https://batman.fandom.com/wiki/Hi_Diddle_Riddle',\n",
       " 'https://batman.fandom.com/wiki/Smack_In_The_Middle',\n",
       " 'https://batman.fandom.com/wiki/Fine_Feathered_Finks',\n",
       " 'https://batman.fandom.com/wiki/The_Penguin%27s_A_Jinx',\n",
       " 'https://batman.fandom.com/wiki/The_Joker_Is_Wild',\n",
       " 'https://batman.fandom.com/wiki/Batman_Is_Riled',\n",
       " 'https://batman.fandom.com/wiki/Instant_Freeze',\n",
       " 'https://batman.fandom.com/wiki/Rats_Like_Cheese',\n",
       " 'https://batman.fandom.com/wiki/Zelda_The_Great']"
      ]
     },
     "execution_count": 199,
     "metadata": {},
     "output_type": "execute_result"
    }
   ],
   "source": [
    "all_episodes[:10]"
   ]
  },
  {
   "cell_type": "code",
   "execution_count": 200,
   "metadata": {},
   "outputs": [],
   "source": [
    "# Dropping first link as it picked up a redundant one for page\n",
    "all_episodes = all_episodes[1:]"
   ]
  },
  {
   "cell_type": "code",
   "execution_count": 215,
   "metadata": {},
   "outputs": [],
   "source": [
    "def get_page_content(link):\n",
    "    \"\"\"Function to get the content elements from each page and return it as a dictionary\"\"\"\n",
    "    browser.get(link)\n",
    "    title = browser.find_element_by_tag_name('h1').text\n",
    "    content_text = \" \".join([i.text for i in browser.find_elements_by_css_selector('#mw-content-text')])\n",
    "    return {'title': title, 'content': content_text}\n",
    "    time.sleep(10)"
   ]
  },
  {
   "cell_type": "code",
   "execution_count": 216,
   "metadata": {},
   "outputs": [],
   "source": [
    "episodes = []\n",
    "\n",
    "for link in all_episodes:\n",
    "    episodes.append(get_page_content(link))"
   ]
  },
  {
   "cell_type": "code",
   "execution_count": 217,
   "metadata": {},
   "outputs": [],
   "source": [
    "episodes_df = pd.DataFrame(episodes)"
   ]
  },
  {
   "cell_type": "markdown",
   "metadata": {},
   "source": [
    "#### Checking to see what content details look like\n",
    "I set it to split on 'Edit' as that text on the page appears after each heading it captured.  This way, I can split the full content by Edit and then use the string after the heading I am looking for ('Plot')"
   ]
  },
  {
   "cell_type": "code",
   "execution_count": 218,
   "metadata": {},
   "outputs": [
    {
     "name": "stdout",
     "output_type": "stream",
     "text": [
      "\n",
      "The series opens at the Republic of Moldavia exhibit, located at the Gotham City World's Fair, the Moldavian prime minister slices into the Moldavian friendship cake and unknowingly causes it to explode, releasing a concealed riddle. At the Gotham City Police Department, Police Commissioner James Gordon (Neil Hamilton) and Chief Miles O'Hara(Stafford Repp) suspect it to the Riddler (Gorshin). They turn to Inspector Bash and all the other senior policemen, but all bow their heads for a moment of silence, they turn to a red phone (\"I don't know who he is behind that mask of his, but I do know when we need him and we need him now!\"). After a glimpse into the lives of Bruce Wayne (Adam West) and Dick Grayson (Burt Ward) as well as the opening credits, the riddle leads them as Batman and Robin to the Pealeart gallery where they catch the Riddler in the act of taking a cross from its proprietor, Gideon Peale, at gunpoint. They stop him with an explosive but learn to their horror that Riddler's gun was actually a lighter and the cross was his to begin with. Riddler whistles and some lawyers arrive bearing subpoenas in which the Riddler hands to Batman, who is slated to be sued for false arrest.\n",
      "Batman and Robin must uncover the Riddler's plot before the case comes to trial or Batman will be forced to reveal his true identity in court, completely destroying his value as a crimefighter and stunting his career forever. Batman reveals that he knew the gun Riddler had was a fake, yet pretended to arrest Riddler so as to uncover Riddler's scheme.\n",
      "Two hidden riddles in the legal documents lead Batman and Robin to the new \"What A Way To Go-Go\" discothèque. the Riddler informs his henchmen, the Mole Hill Mob, that Batman has had time to solve his clue. As the Riddler and the Mole Hill Mob make their way through an underground corridor to the discothèque, his plan is again put into action. Being a minor, Robin is too young to enter the disco (Burt Ward was 19 at the time of filming so it is implied that only 21-year-olds are allowed), so he waits outside in the Batmobile and monitors Batman on the Batscope while Batman dances the Batusi with the Riddler's assistant, Molly, Unfortunately, his orange juice had been spiked with a sleeping pill. Watching from outside, Robin attempts to help Batman, but falls victim to the Riddler's tranquilizer dart gun. Riddler tries to steal the Batmobile but accidentally triggers its antitheft rockets. He then tries to destroy the car but the flames are extinguished by its \"Bat-o-stat Antifire Activator\". Robin is carried away down a manhole by the Riddler and the Mole Hill Mob. Batman finds himself in no condition to pursue them and is forced to surrender his keys to the police at the most inopportune time.\n",
      "Meanwhile, at the Riddler's hideout, Robin is strapped to a table as the Riddler, who is surrounded by Molly and the Mole Hill Mob, attempts to operate on the unconscious boy.\n",
      "Cliffhanger Text \n"
     ]
    }
   ],
   "source": [
    "print(episodes_df.loc[0]['content'].split('Edit')[1])"
   ]
  },
  {
   "cell_type": "code",
   "execution_count": 226,
   "metadata": {},
   "outputs": [],
   "source": [
    "def find_plot(text):\n",
    "    \"\"\"Split all content text, find the string that ends with Plot heading, save the next item as that is the plot text\"\"\"\n",
    "    content_sections = text.split('Edit')\n",
    "    for i, section in enumerate(content_sections):\n",
    "        if section.endswith('Plot'):\n",
    "            return content_sections[i+1]"
   ]
  },
  {
   "cell_type": "code",
   "execution_count": 220,
   "metadata": {},
   "outputs": [],
   "source": [
    "episodes_df['plot'] = episodes_df['content'].apply(lambda x: find_plot(x))"
   ]
  },
  {
   "cell_type": "code",
   "execution_count": 221,
   "metadata": {},
   "outputs": [
    {
     "data": {
      "text/html": [
       "<div>\n",
       "<style scoped>\n",
       "    .dataframe tbody tr th:only-of-type {\n",
       "        vertical-align: middle;\n",
       "    }\n",
       "\n",
       "    .dataframe tbody tr th {\n",
       "        vertical-align: top;\n",
       "    }\n",
       "\n",
       "    .dataframe thead th {\n",
       "        text-align: right;\n",
       "    }\n",
       "</style>\n",
       "<table border=\"1\" class=\"dataframe\">\n",
       "  <thead>\n",
       "    <tr style=\"text-align: right;\">\n",
       "      <th></th>\n",
       "      <th>content</th>\n",
       "      <th>title</th>\n",
       "      <th>plot</th>\n",
       "    </tr>\n",
       "  </thead>\n",
       "  <tbody>\n",
       "    <tr>\n",
       "      <th>0</th>\n",
       "      <td>Hi Diddle Riddle\\nWriter(s)\\nLorenzo Semple, J...</td>\n",
       "      <td>Hi Diddle Riddle</td>\n",
       "      <td>\\nThe series opens at the Republic of Moldavia...</td>\n",
       "    </tr>\n",
       "    <tr>\n",
       "      <th>1</th>\n",
       "      <td>Smack In The Middle\\nWriter(s)\\nLorenzo Semple...</td>\n",
       "      <td>Smack In The Middle</td>\n",
       "      <td>\\nPicking up from the previous night's episode...</td>\n",
       "    </tr>\n",
       "    <tr>\n",
       "      <th>2</th>\n",
       "      <td>Fine Feathered Finks\\nWriter(s)\\nLorenzo Sempl...</td>\n",
       "      <td>Fine Feathered Finks</td>\n",
       "      <td>\\nAwaiting release from prison, the Penguin, t...</td>\n",
       "    </tr>\n",
       "    <tr>\n",
       "      <th>3</th>\n",
       "      <td>The Penguin's A Jinx\\nWriter(s)\\nLorenzo Sempl...</td>\n",
       "      <td>The Penguin's A Jinx</td>\n",
       "      <td>\\nPicking up from the last episode, Bruce Wayn...</td>\n",
       "    </tr>\n",
       "    <tr>\n",
       "      <th>4</th>\n",
       "      <td>The Joker Is Wild\\nWriter(s)\\nRobert Dozier\\nD...</td>\n",
       "      <td>The Joker Is Wild</td>\n",
       "      <td>\\nThe story begins with the Joker in prison pi...</td>\n",
       "    </tr>\n",
       "  </tbody>\n",
       "</table>\n",
       "</div>"
      ],
      "text/plain": [
       "                                             content                 title  \\\n",
       "0  Hi Diddle Riddle\\nWriter(s)\\nLorenzo Semple, J...      Hi Diddle Riddle   \n",
       "1  Smack In The Middle\\nWriter(s)\\nLorenzo Semple...   Smack In The Middle   \n",
       "2  Fine Feathered Finks\\nWriter(s)\\nLorenzo Sempl...  Fine Feathered Finks   \n",
       "3  The Penguin's A Jinx\\nWriter(s)\\nLorenzo Sempl...  The Penguin's A Jinx   \n",
       "4  The Joker Is Wild\\nWriter(s)\\nRobert Dozier\\nD...     The Joker Is Wild   \n",
       "\n",
       "                                                plot  \n",
       "0  \\nThe series opens at the Republic of Moldavia...  \n",
       "1  \\nPicking up from the previous night's episode...  \n",
       "2  \\nAwaiting release from prison, the Penguin, t...  \n",
       "3  \\nPicking up from the last episode, Bruce Wayn...  \n",
       "4  \\nThe story begins with the Joker in prison pi...  "
      ]
     },
     "execution_count": 221,
     "metadata": {},
     "output_type": "execute_result"
    }
   ],
   "source": [
    "episodes_df.head()"
   ]
  },
  {
   "cell_type": "code",
   "execution_count": 222,
   "metadata": {},
   "outputs": [],
   "source": [
    "all_episodes = episodes_df['plot'].tolist()"
   ]
  },
  {
   "cell_type": "code",
   "execution_count": 223,
   "metadata": {},
   "outputs": [],
   "source": [
    "# Combining all the plots that it found\n",
    "all_episodes = [plot for plot in all_episodes if plot is not None]\n",
    "\n",
    "# Splitting plot text by last line break to remove the last line which is the heading for the section following \n",
    "split_episodes = [plot.split('\\n')[:-1] for plot in all_episodes]\n",
    "\n",
    "# Further cleaning to remove plots that either are empty or just leftover titles.\n",
    "split_episodes = [\" \".join(plot) for plot in split_episodes if len(\" \".join(plot)) > 5]\n",
    "\n",
    "# Now combining all plots into one corpus and saving as txt file\n",
    "all_ep_text = \" \".join(split_episodes)"
   ]
  },
  {
   "cell_type": "code",
   "execution_count": 225,
   "metadata": {},
   "outputs": [],
   "source": [
    "with open('batman66.txt', 'w') as f:\n",
    "    f.write(all_ep_text)"
   ]
  },
  {
   "cell_type": "markdown",
   "metadata": {},
   "source": [
    "Great! Now my text is ready to be run through the GPT-2 Model running on a GPU of Google Cloud Services."
   ]
  }
 ],
 "metadata": {
  "kernelspec": {
   "display_name": "Python 3",
   "language": "python",
   "name": "python3"
  },
  "language_info": {
   "codemirror_mode": {
    "name": "ipython",
    "version": 3
   },
   "file_extension": ".py",
   "mimetype": "text/x-python",
   "name": "python",
   "nbconvert_exporter": "python",
   "pygments_lexer": "ipython3",
   "version": "3.6.6"
  }
 },
 "nbformat": 4,
 "nbformat_minor": 2
}
