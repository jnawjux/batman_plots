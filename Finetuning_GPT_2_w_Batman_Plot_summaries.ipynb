{
  "nbformat": 4,
  "nbformat_minor": 0,
  "metadata": {
    "colab": {
      "name": "Finetuning GPT-2 w/ Batman Plot summaries",
      "version": "0.3.2",
      "provenance": [],
      "collapsed_sections": [],
      "toc_visible": true,
      "include_colab_link": true
    },
    "kernelspec": {
      "name": "python3",
      "display_name": "Python 3"
    },
    "accelerator": "GPU"
  },
  "cells": [
    {
      "cell_type": "markdown",
      "metadata": {
        "id": "view-in-github",
        "colab_type": "text"
      },
      "source": [
        "<a href=\"https://colab.research.google.com/github/jnawjux/batman_plots/blob/master/Finetuning_GPT_2_w_Batman_Plot_summaries.ipynb\" target=\"_parent\"><img src=\"https://colab.research.google.com/assets/colab-badge.svg\" alt=\"Open In Colab\"/></a>"
      ]
    },
    {
      "cell_type": "markdown",
      "metadata": {
        "id": "H7LoMj4GA4n_",
        "colab_type": "text"
      },
      "source": [
        "# Finetuning GPT-2 w/ Batman Plot summaries\n",
        "\n",
        "This example uses `gpt-2-simple` designed by Max Woolf, you can visit [this GitHub repository](https://github.com/minimaxir/gpt-2-simple).\n",
        "\n"
      ]
    },
    {
      "cell_type": "code",
      "metadata": {
        "id": "KBkpRgBCBS2_",
        "colab_type": "code",
        "outputId": "ceb18a94-9a1f-4b88-c6e2-123792cf9164",
        "colab": {
          "base_uri": "https://localhost:8080/",
          "height": 88
        }
      },
      "source": [
        "!pip install -q gpt-2-simple\n",
        "\n",
        "import gpt_2_simple as gpt2\n",
        "from datetime import datetime\n",
        "from google.colab import files"
      ],
      "execution_count": 1,
      "outputs": [
        {
          "output_type": "stream",
          "text": [
            "WARNING: Logging before flag parsing goes to stderr.\n",
            "W0620 16:48:59.122233 139703747852160 deprecation_wrapper.py:119] From /usr/local/lib/python3.6/dist-packages/gpt_2_simple/src/memory_saving_gradients.py:13: The name tf.GraphKeys is deprecated. Please use tf.compat.v1.GraphKeys instead.\n",
            "\n"
          ],
          "name": "stderr"
        }
      ]
    },
    {
      "cell_type": "markdown",
      "metadata": {
        "id": "0wXB05bPDYxS",
        "colab_type": "text"
      },
      "source": [
        "## Downloading GPT-2\n",
        "\n",
        "For this project, I trained on the small model (117M), but the module does make the medium model avaialble as well (345M). The larger caused performance issues for my purposes.\n"
      ]
    },
    {
      "cell_type": "code",
      "metadata": {
        "id": "P8wSlgXoDPCR",
        "colab_type": "code",
        "outputId": "9fb9db21-737c-47c2-eb80-25362155cc83",
        "colab": {
          "base_uri": "https://localhost:8080/",
          "height": 136
        }
      },
      "source": [
        "gpt2.download_gpt2(model_name=\"117M\")"
      ],
      "execution_count": 3,
      "outputs": [
        {
          "output_type": "stream",
          "text": [
            "Fetching checkpoint: 1.05Mit [00:00, 259Mit/s]                                                      \n",
            "Fetching encoder.json: 1.05Mit [00:00, 110Mit/s]                                                    \n",
            "Fetching hparams.json: 1.05Mit [00:00, 330Mit/s]                                                    \n",
            "Fetching model.ckpt.data-00000-of-00001: 498Mit [00:02, 209Mit/s]                                   \n",
            "Fetching model.ckpt.index: 1.05Mit [00:00, 696Mit/s]                                                \n",
            "Fetching model.ckpt.meta: 1.05Mit [00:00, 237Mit/s]                                                 \n",
            "Fetching vocab.bpe: 1.05Mit [00:00, 199Mit/s]                                                       \n"
          ],
          "name": "stderr"
        }
      ]
    },
    {
      "cell_type": "markdown",
      "metadata": {
        "id": "N8KXuKWzQSsN",
        "colab_type": "text"
      },
      "source": [
        "#### Mounting Google Drive\n",
        "\n",
        "To save and export the model when complete, I needed to connect to my Google Drive. I have already stored in my Google Drive the text document with all the plot summaries."
      ]
    },
    {
      "cell_type": "code",
      "metadata": {
        "id": "puq4iC6vUAHc",
        "colab_type": "code",
        "outputId": "785132dd-2158-4996-c70f-d448c8a071cc",
        "colab": {
          "base_uri": "https://localhost:8080/",
          "height": 54
        }
      },
      "source": [
        "gpt2.mount_gdrive()"
      ],
      "execution_count": 4,
      "outputs": [
        {
          "output_type": "stream",
          "text": [
            "Drive already mounted at /content/drive; to attempt to forcibly remount, call drive.mount(\"/content/drive\", force_remount=True).\n"
          ],
          "name": "stdout"
        }
      ]
    },
    {
      "cell_type": "code",
      "metadata": {
        "id": "-Z6okFD8VKtS",
        "colab_type": "code",
        "colab": {}
      },
      "source": [
        "file_name = \"batman_66.txt\"\n",
        "gpt2.copy_file_from_gdrive(file_name)"
      ],
      "execution_count": 0,
      "outputs": []
    },
    {
      "cell_type": "markdown",
      "metadata": {
        "id": "LdpZQXknFNY3",
        "colab_type": "text"
      },
      "source": [
        "## Finetune GPT-2\n",
        "\n",
        "#### Notes on how finetuning works with gpt-2-simple:\n",
        "\n",
        "<em>\n",
        "\n",
        "*  **`restore_from`**: Set to `fresh` to start training from the base GPT-2, or set to `latest` to restart training from an existing checkpoint.\n",
        "* **`sample_every`**: Number of steps to print example output\n",
        "* **`print_every`**: Number of steps to print training progress.\n",
        "* **`learning_rate`**:  Learning rate for the training. (default `1e-4`, can lower to `1e-5` if you have <1MB input data)\n",
        "*  **`run_name`**: subfolder within `checkpoint` to save the model. This is useful if you want to work with multiple models (will also need to specify  `run_name` when loading the model)\n",
        "* **`overwrite`**: Set to `True` if you want to continue finetuning an existing model (w/ `restore_from='latest'`) without creating duplicate copies. </em>"
      ]
    },
    {
      "cell_type": "code",
      "metadata": {
        "id": "aeXshJM-Cuaf",
        "colab_type": "code",
        "outputId": "040c161f-d9af-425d-8321-2e64157fa6ad",
        "colab": {
          "base_uri": "https://localhost:8080/",
          "height": 2638
        }
      },
      "source": [
        "sess = gpt2.start_tf_sess()\n",
        "\n",
        "gpt2.finetune(sess,\n",
        "              dataset=file_name,\n",
        "              model_name='117M',\n",
        "              steps=1000,\n",
        "              restore_from='fresh',\n",
        "              run_name='batman_66',\n",
        "              print_every=10,\n",
        "              sample_every=200,\n",
        "              save_every=500\n",
        "              )"
      ],
      "execution_count": 7,
      "outputs": [
        {
          "output_type": "stream",
          "text": [
            "W0620 16:49:31.092854 139703747852160 deprecation_wrapper.py:119] From /usr/local/lib/python3.6/dist-packages/gpt_2_simple/gpt_2.py:90: The name tf.ConfigProto is deprecated. Please use tf.compat.v1.ConfigProto instead.\n",
            "\n",
            "W0620 16:49:31.094818 139703747852160 deprecation_wrapper.py:119] From /usr/local/lib/python3.6/dist-packages/gpt_2_simple/gpt_2.py:100: The name tf.Session is deprecated. Please use tf.compat.v1.Session instead.\n",
            "\n",
            "W0620 16:49:31.452461 139703747852160 deprecation_wrapper.py:119] From /usr/local/lib/python3.6/dist-packages/gpt_2_simple/gpt_2.py:164: The name tf.placeholder is deprecated. Please use tf.compat.v1.placeholder instead.\n",
            "\n",
            "W0620 16:49:31.456313 139703747852160 deprecation_wrapper.py:119] From /usr/local/lib/python3.6/dist-packages/gpt_2_simple/src/model.py:148: The name tf.variable_scope is deprecated. Please use tf.compat.v1.variable_scope instead.\n",
            "\n",
            "W0620 16:49:37.449892 139703747852160 deprecation.py:323] From /usr/local/lib/python3.6/dist-packages/gpt_2_simple/src/sample.py:71: to_float (from tensorflow.python.ops.math_ops) is deprecated and will be removed in a future version.\n",
            "Instructions for updating:\n",
            "Use `tf.cast` instead.\n",
            "W0620 16:49:37.470423 139703747852160 deprecation.py:323] From /usr/local/lib/python3.6/dist-packages/gpt_2_simple/src/sample.py:17: add_dispatch_support.<locals>.wrapper (from tensorflow.python.ops.array_ops) is deprecated and will be removed in a future version.\n",
            "Instructions for updating:\n",
            "Use tf.where in 2.0, which has the same broadcast rule as np.where\n",
            "W0620 16:49:37.474874 139703747852160 deprecation.py:323] From /usr/local/lib/python3.6/dist-packages/gpt_2_simple/src/sample.py:77: multinomial (from tensorflow.python.ops.random_ops) is deprecated and will be removed in a future version.\n",
            "Instructions for updating:\n",
            "Use `tf.random.categorical` instead.\n",
            "W0620 16:49:37.488509 139703747852160 deprecation_wrapper.py:119] From /usr/local/lib/python3.6/dist-packages/gpt_2_simple/gpt_2.py:184: The name tf.train.AdamOptimizer is deprecated. Please use tf.compat.v1.train.AdamOptimizer instead.\n",
            "\n",
            "W0620 16:49:37.489457 139703747852160 deprecation.py:323] From /usr/local/lib/python3.6/dist-packages/gpt_2_simple/src/accumulate.py:14: Variable.initialized_value (from tensorflow.python.ops.variables) is deprecated and will be removed in a future version.\n",
            "Instructions for updating:\n",
            "Use Variable.read_value. Variables in 2.X are initialized automatically both in eager and graph (inside tf.defun) contexts.\n",
            "W0620 16:49:46.461629 139703747852160 deprecation_wrapper.py:119] From /usr/local/lib/python3.6/dist-packages/gpt_2_simple/gpt_2.py:189: The name tf.summary.scalar is deprecated. Please use tf.compat.v1.summary.scalar instead.\n",
            "\n",
            "W0620 16:49:46.464561 139703747852160 deprecation_wrapper.py:119] From /usr/local/lib/python3.6/dist-packages/gpt_2_simple/gpt_2.py:200: The name tf.summary.FileWriter is deprecated. Please use tf.compat.v1.summary.FileWriter instead.\n",
            "\n",
            "W0620 16:49:46.472022 139703747852160 deprecation_wrapper.py:119] From /usr/local/lib/python3.6/dist-packages/gpt_2_simple/gpt_2.py:202: The name tf.train.Saver is deprecated. Please use tf.compat.v1.train.Saver instead.\n",
            "\n",
            "W0620 16:49:53.450284 139703747852160 deprecation.py:323] From /usr/local/lib/python3.6/dist-packages/tensorflow/python/training/saver.py:1276: checkpoint_exists (from tensorflow.python.training.checkpoint_management) is deprecated and will be removed in a future version.\n",
            "Instructions for updating:\n",
            "Use standard file APIs to check for files with this prefix.\n"
          ],
          "name": "stderr"
        },
        {
          "output_type": "stream",
          "text": [
            "Loading checkpoint models/117M/model.ckpt\n"
          ],
          "name": "stdout"
        },
        {
          "output_type": "stream",
          "text": [
            "\r  0%|          | 0/1 [00:00<?, ?it/s]"
          ],
          "name": "stderr"
        },
        {
          "output_type": "stream",
          "text": [
            "Loading dataset...\n"
          ],
          "name": "stdout"
        },
        {
          "output_type": "stream",
          "text": [
            "\r100%|██████████| 1/1 [00:00<00:00,  4.30it/s]\n"
          ],
          "name": "stderr"
        },
        {
          "output_type": "stream",
          "text": [
            "dataset has 18838 tokens\n",
            "Training...\n",
            "[10 | 31.61] loss=3.23 avg=3.23\n",
            "[20 | 56.58] loss=2.58 avg=2.90\n",
            "[30 | 81.10] loss=2.22 avg=2.67\n",
            "[40 | 105.23] loss=1.51 avg=2.38\n",
            "[50 | 129.59] loss=0.72 avg=2.04\n",
            "[60 | 154.22] loss=0.56 avg=1.79\n",
            "[70 | 178.70] loss=0.31 avg=1.57\n",
            "[80 | 203.06] loss=0.19 avg=1.39\n",
            "[90 | 227.40] loss=0.35 avg=1.27\n",
            "[100 | 251.81] loss=0.09 avg=1.15\n",
            "[110 | 276.28] loss=0.07 avg=1.04\n",
            "[120 | 300.72] loss=0.07 avg=0.96\n",
            "[130 | 325.21] loss=0.05 avg=0.88\n",
            "[140 | 349.68] loss=0.06 avg=0.82\n",
            "[150 | 374.10] loss=0.05 avg=0.77\n",
            "[160 | 398.51] loss=0.05 avg=0.72\n",
            "[170 | 422.86] loss=0.05 avg=0.68\n",
            "[180 | 447.17] loss=0.06 avg=0.64\n",
            "[190 | 471.44] loss=0.04 avg=0.60\n",
            "[200 | 495.73] loss=0.04 avg=0.57\n",
            "======== SAMPLE 1 ========\n",
            " City, The Dynamic Duo enter the school, with the intention of discovering who put the piano on security camera. Unfortunately, they find out little on the pianist's shop listing suggests he creates the image. Later, at Madame Antoinette's office, Lin-Manuel Rosario, dressed in the famous red top, meets with Professor Lin-Manuel Chandell, the famous bust of Queen Elizabeth II. While listening to a recording of the Queen's performance, Chandell activates a sound-emitting dipper, and during the presentation of a bouquet of bouffant-chiselled flowers, the Joker directly threatens to destroy the school. Bruce Wayne and Dick Grayson arrive at the school to find that the Joker has already unlocked the door to the school. Chandell activates the professor's bomb squad, with the professor's henchmen carrying concealed handguns. The Joker reveals himself to be the new Elizabeth I, and has Elizabeth planted fakes by the public. Batman and Robin arrive in time to save Elizabeth before Chandell and his henchmen can give chase. Chandell activates the distraction throw gadget, and during the chase Batman cuts himself and his adoptive son free from the chains they were put on. They give chase through the forest, but the Joker is already beginning to encircle the trio. Batman captures Chandell and takes him to the Gotham City State Penitentiary, where he is held while the State Penals Commission enforces a stricture that all inmates receive a daily aspirin (from the Gotham City Drug Company). This agreement is struck between the Joker and his criminal syndicate, The Riddler, at his hideout. While in his prison cell, The Joker is caught when The Riddler drops off one of The Riddler's \"off-duty\" mitts, causing The Joker to rush to his aid and free himself and his henchmen. Dragging The Joker out to the cell wall, Joker hits the head with the penultimate brick, causing it to split in half. Reentering the cell, Joker finds Batman unconscious and unconscious on the ground, with the Riddler unconscious but alive. Joker uses a gas pellet onto Batman's head, then uses a rubber band to wrap Batman in a blanket and put him in a closet. Leaving the Penguin to fend for himself. As Batman and Robin try to help The Joker, the Riddler comes to take his bait. He uses a gas pellet on the Joker, then takes his place along with Scarecrow, who is inside to begin the process of removing Batman's mask. Joker uses a gas pellet on Batman, then takes his place along with Scarecrow, who is inside to begin the process of removing Batman's mask. Batman uses the quick release gas pellet on The Joker, and the Riddler makes his escape. Jung's body was never recovered, so it was assumable that he would be going on a rampage in the future.  The Joker is currently slandering Robin and diming lamps in The Dark Knight Rises. Batman and Robin, having received a threatening phone call, are dispatched to the Gotham City Post-Release Center, where they uncover the foul play. The Joker is bound and gagged in the cage, and he threatens to kill all of Batman and Robin unless they release $1 million in $3 million in $3 million check, or he will melt the city to the ground and become the Joker's prison. Believing that no one can kill Robin until the bank has been called in, the Joker sends his henchmen to City Hall to make a criminal arrest. After making good on ashadow's threat to blow up the World Trade Center and other World Trade Center structures, The Joker orders his henchmen, Rae48 and Roxy, to set off the steam engines at sea to conduct research. At the Gotham City Library, Princess Sandra is waiting for them. She calls the police, discovering that the Joker's headquarters are already destroyed, and that The Joker's henchmen have fled. Batman and Robin are called in to help find out what's going on, and the Joker decides to set a trap for the librarians, who are planning to steal the first million dollars they will ever receive from the patrons of City Hall. He breaks into the Gotham City Library to snatch the library's priceless library magnum, but Batman and Robin are caught off guard by the arrival of Roxy Duggan, the daughter of the famous actress Sophia Duggan (played by Amli Rolle) and by her sudden appearance in the library. Sophia is unconscious and Bruce Wayne demands that Batman give her a massage schedule. He refuses, but he has his henchmen break into the library to find out what she wants and that he won't let anyone break in. After putting the women through a little homework, Batman shows them a picture of Sophia holding a bomb which explodes if closed. He tells her to put the bomb in the airlock above her head or she will explode. The Joker gets the better of Sophia and drags\n",
            "\n",
            "[210 | 533.02] loss=0.03 avg=0.54\n",
            "[220 | 557.34] loss=0.04 avg=0.52\n",
            "[230 | 581.66] loss=0.05 avg=0.50\n",
            "[240 | 606.03] loss=0.03 avg=0.47\n",
            "[250 | 630.47] loss=0.04 avg=0.46\n",
            "[260 | 654.86] loss=0.04 avg=0.44\n",
            "[270 | 679.29] loss=0.04 avg=0.42\n",
            "[280 | 703.74] loss=0.03 avg=0.40\n",
            "[290 | 728.21] loss=0.03 avg=0.39\n",
            "[300 | 752.72] loss=0.03 avg=0.38\n",
            "[310 | 777.18] loss=0.03 avg=0.36\n",
            "[320 | 801.73] loss=0.04 avg=0.35\n",
            "[330 | 826.23] loss=0.03 avg=0.34\n",
            "[340 | 850.68] loss=0.02 avg=0.33\n",
            "[350 | 875.08] loss=0.02 avg=0.32\n",
            "[360 | 899.44] loss=0.03 avg=0.31\n",
            "[370 | 923.75] loss=0.02 avg=0.30\n",
            "[380 | 948.03] loss=0.03 avg=0.29\n",
            "[390 | 972.34] loss=0.04 avg=0.28\n",
            "[400 | 996.65] loss=0.02 avg=0.28\n",
            "======== SAMPLE 1 ========\n",
            "d’s death. Afterward, Catwoman receives a package from the Mintli, which contains a miniature Jack-in-the-Box. After taking it with her, Catwoman puts it in a jar and hides it in a closet. After putting them all away, they come to the discovery of Egyptian Embryology, where they find that the cask was made. They bring the diamonds back with her, and when she asks how she could destroy Egyptian jewelry, he tells her that he had no idea. He says that he knew there was a problem with the formula, and that it was put to them in turn for a solution. The Diamonds Are The New Crime Movie Dilemma! When Hermene is introduced to the Chandell family for the third time, she responds by accusing them of plotting with Jack-in-the-Box, Tyrone Slye. At the same time, Chandell and Slye are playing a musical in the background; they announce that the musical will be performed by the Chandell children. They also reveal that they’re bringing the movie projector - which has a three-dimensional picture - to Jim Beam's attention. They warn him that Slye is attempting to buy Baby Mindful's seat in the projector, and that Baby Mindful is about to be hit with a million volts of electricity! During the presentation of the movie projector, The Chandell family makes fun of Dick Grayson, who they allege he̶�s controlling, such as a dollhouse or a nightclub. They even make fun of Batman for wearing the \"Matilda\" crown, an intricate silk wig that conceals her true identity. They announce that they will be throwing the concert - at Wayne Manor - at 3 p.m. That is another word for today: midnight. Guests include: Dick Grason, the Chief Magician, and the Mayor of New York City; his ring is held there; he warns Batman that if he does, he will soon find out how. Robin, believing that Baby Mindful is now free, crashes the concert; Batman and Robin rush off to safeguard Baby's safety, but when they arrive, the Felonious Fowl announces his ownership of Wayne Manor and his Circus Gorda. He then informs them that he will release $100,000 in cash that will enable him and his gang to rob the Gotham City National Bank of approximately $100,000; they will also find a Riddler on the crown. They rush off to safeguard the other Riddler's hide, but when they arrive, Baby Jane Dale is struck in the head by a baseball and she has a brain aneurysm; she is placed on a ventilator. When doctors remove the crown from her brain, they find that it had been driven by Mr. Freeze. They put Mr. Freeze in a vat of bleach who tells them to hurry so that he can get the chloroformed tissue out. He gasses Baby Jane to death with it, and then gives Baby Jane to Dr. Schivel, father to Baby Jane's twin brother Bruce and Leo. Batman and Robin go to Mr. Freeze's office and were waiting there for him, when Mr. Freeze introduced himself. He revealed that he knew about Baby Jane's fate and decided to take action right away. He put a $50,000 bounty on Mr. Freeze's head. Batman and Robin go to Mr. Freeze's office and were waiting there for him, when Mr. Freeze introduced himself. He said he knew of his son's fate and decided to take action right away. He put a $50,000 bounty on Mr. Freeze's head. Batman and Robin go to Mr. Freeze's office and were waiting there for him, when Mr. Freeze introduced himself. He said he knew of his son's fate and decided to take action right away. He put a $50,000 bounty on Mr. Freeze's head. Emergency Medpac stops Mr. Freeze's henchmen. Batman and Robin rush to Mr. Freeze's office and began the search for Baby Jane, but Mr. Freeze introduced himself only a few moments later. Batman took the precaution of wearing his \"Special Super B Thermal underwear\" as protection. Battaining his heat exhaustion, he gave Commissioner Gordon a small echoing seal pulsator. Batman took the precaution of wearing his \"Special Super B thermal underwear\" as well. Feeling guilty, he decided to give Commissioner Gordon and Batman a wake up call. They need to put a stop to Mr. Freeze's failed scheme. Bruce Wayne and Dick Grayson arrive at Mr. Freeze's office and were waiting for Mr. Freeze when Mr. Freeze introduced himself. He said he knew of his son's fate and decided to take action. He took all of the necessary legal and financial documents and returned to the Gotham City Police Department. After a couple of minutes, a room full of Gotham City's financial experts presentation a \"safe haven\" for the criminal Mr. Freeze. Batman and Robin enter, and immediately be surprised by the giant Mold\n",
            "\n",
            "[410 | 1032.56] loss=0.03 avg=0.27\n",
            "[420 | 1056.73] loss=0.02 avg=0.26\n",
            "[430 | 1080.97] loss=0.04 avg=0.25\n",
            "[440 | 1105.19] loss=0.03 avg=0.25\n",
            "[450 | 1129.50] loss=0.03 avg=0.24\n",
            "[460 | 1153.82] loss=0.04 avg=0.24\n",
            "[470 | 1178.20] loss=0.02 avg=0.23\n",
            "[480 | 1202.58] loss=0.02 avg=0.23\n",
            "[490 | 1227.00] loss=0.03 avg=0.22\n",
            "[500 | 1251.44] loss=0.03 avg=0.22\n",
            "Saving checkpoint/batman_66/model-500\n",
            "[510 | 1279.46] loss=0.02 avg=0.21\n",
            "[520 | 1304.02] loss=0.02 avg=0.21\n",
            "[530 | 1328.36] loss=0.02 avg=0.20\n",
            "[540 | 1352.61] loss=0.04 avg=0.20\n",
            "[550 | 1376.83] loss=0.02 avg=0.19\n",
            "[560 | 1401.06] loss=0.02 avg=0.19\n",
            "[570 | 1425.43] loss=0.02 avg=0.19\n",
            "[580 | 1449.82] loss=0.03 avg=0.18\n",
            "[590 | 1474.24] loss=0.02 avg=0.18\n",
            "[600 | 1498.72] loss=0.03 avg=0.18\n",
            "======== SAMPLE 1 ========\n",
            " Bowl The Commissioner is quick to add that Batman and Robin do not engage in criminal conduct outside of the purchase of a ticket, comment or bouquet of flowers.  On an emergency basis, the Gotham City Police Department uses a \"Homing Battransmitter\" device consisting of a cord-Fastening System, a miniature air-dampener and a miniature microphone to communicate with each other. While in possession of a \"speeder,\" Barbara Gordon contacts Alfred at The Batcave and requests to speak with him directly about the kidnapping, but Alfred refuses to budge until Barbara himself agrees to speak to Dr. Isaacson, the renowned pathologist involved. Alfred also reveals that he knew the girl to be Barbara Doe, aka Barbara Gordon, and that she was Daisy Doe, from the moment of their first date. Alfred is infuriated, but he holds his ground, and he sends the police at his office on King Street to hunt down the monster and his henchmen, Bullwinkle and Mimi, and bring the criminals to justice. After delivering a toast to the heroes, the Chief of Police, and the Chief of Police Mr. Braingood hands Commissioner Gordon one million dollars' worth of dynamite, and he points it at Bruce and says \"How come?\". Disturbed by the sudden appearance of Batman and Robin, Commissioner Gordon rush to the scene, only to be captured and strapped into electric chairs by the Dynamic Duo, who are controlled by Mr. Braingood. As the Duo tries to steal the dynamite, Batman tells them about the kidnapping and their help in solving it, and they help the Dynamic Duo into the lift. It is here that the real crime comes to a climax, as Bruce and Dick use the priceless Golden-Face Staff to determine its significance. Returns to the Batcave to confront the Penguin, who has captured Mr. Braingood and is attempting to take him prisoner. While in prison at a camp, Mr. Braingood attempts to sell the Penguin a trick revealing himself to be the \"apparently inevitable\" victor of the race for city hall. Knowing the Penguin's scheme is a ruse, he announce's Mrs. Justice Bruce and the Boy Wonder to jail and reward him with a prize, much to the annoyance of the Penguin's cronies. The Penguin, still enjoying his holiday swing around Gotham, sends the thugs chasing him around the playground, where he uses a pair of Alfred's \"Heineken Charm\" reads, \"2 Batman,\" (\"acting humble\"), hissing out over the radio as he gallops along the track. The Penguin makes his escape as Mrs. Justice Bruce alerts the public. The Dynamic Duo come closer and closer to the Penguin's lair, and soon enough, the Penguin is killed outright by his henchmen, only to watch in shock as The Dynamic Duo, along with Alfred, escape to the lair of the Penguin's accomplice, K.G. Bird (\"cagey bird\") and his \"pompous\" bird, the \"pompous\" K.G. Penguin, manage to passage across the cell wall and escape to the Penguin's hideout, where they make their hideout. After escaping the Penguin's clutches, they reach the Penguin's prison, where they are confronted by \"Cagey Bird\" and his \"pompous\" bird, K.G. Penguin. The Penguin uses his \"pompous\" wings to slam the two \"pompmen\" into the ground, then uses his \"water cannon\" to pound the bird into pieces with his powerful water guns. and, and, and finally, the Penguin releases \"Cagey\" into the air, where she makes her escape. K.G. Penguin later hosts a party for Harry, Bruce and Rita. The event is sponsored by The Alfredivables, a bank teller's bureau.  The Dynamic Duo receive a warm-up song and a treat by throwing a baseballgame between Dick and Rae at Dick & Jerry's. The game begins promptly, with the winner being announced the next morning. The game begins with a player throwing a few pitches into the top of the count. The catcher holds the ball up to his hand, and tells the ball \"GOOSEVELG\" (\"alls himself a catcher\") as he passes it. The ball hits the metal plate and ricochets across the diamond, causing a fireball of infinite variety to sprout from it. The batter hits the ball asunder and the diamond explodes, causing a mini-storm of destruction. The Dynamic Duo tries to save face by pretending to be insane and rush to the scene at the jewelry salon. Batman and Robin believe that the sudden appearance of the ball-o-drome brought about the current of extreme heat. Robin then uses his hammer to break out of the shower of frozen peas in the middle of the floor. The Penguin and his \"pompous\" henchmen kidnap the hefty Boy Wonder and throw her into the furnace, then freeze her in place with the hammer of their crimefighting art\n",
            "\n",
            "[610 | 1534.55] loss=0.02 avg=0.17\n",
            "[620 | 1558.71] loss=0.02 avg=0.17\n",
            "[630 | 1582.99] loss=0.03 avg=0.17\n",
            "[640 | 1607.29] loss=0.02 avg=0.16\n",
            "[650 | 1631.69] loss=0.03 avg=0.16\n",
            "[660 | 1656.09] loss=0.02 avg=0.16\n",
            "[670 | 1680.50] loss=0.02 avg=0.15\n",
            "[680 | 1704.90] loss=0.02 avg=0.15\n",
            "[690 | 1729.21] loss=0.02 avg=0.15\n",
            "[700 | 1753.51] loss=0.02 avg=0.15\n",
            "[710 | 1777.78] loss=0.02 avg=0.14\n",
            "[720 | 1802.01] loss=0.02 avg=0.14\n",
            "[730 | 1826.22] loss=0.03 avg=0.14\n",
            "[740 | 1850.45] loss=0.02 avg=0.14\n",
            "[750 | 1874.71] loss=0.03 avg=0.14\n",
            "[760 | 1899.00] loss=0.02 avg=0.13\n",
            "[770 | 1923.32] loss=0.03 avg=0.13\n",
            "[780 | 1947.64] loss=0.02 avg=0.13\n",
            "[790 | 1971.97] loss=0.01 avg=0.13\n",
            "[800 | 1996.27] loss=0.02 avg=0.13\n",
            "======== SAMPLE 1 ========\n",
            " viddler's next crime will be the hijacking of an armored car. They catch him red-handed at the Gotham City Bank, but he escapes in his Trick-Truck. The Dynamic Duo spirit False Face to an alley, where his flunkies give battle. The police arrive in time to apprehend the gang, but False-Face disguises himself as Police Chief O'Hara and escapes.Suspecting a counterfeit money scheme is in the works, The Caped Crusader and The Boy Wonder rush to the bank note printer's office and capture False-Face's slinky assistant, Blaze, who is attempting to make off with a load of money paper. At Police Headquarters Blaze is interrogated, with the fake O'Hara taking part. She is torn between infatuation with Batman and her loyalty to False-Face, but finally she agrees to lead the Caped Crusader to the criminal's hideout...but it can't be Joined until The Catwoman Jirgas Conventions Showings! After several hours of waiting, police in white riot gear arrive at the door and take Chief Miles O'Hara and Batman into custody. After questioning them, they reveal that masked men scheme to steal the Batman's rare \"vibrant\" diamond from the world renowned skating queen Ekdol. They also report that the skater is too young to skivvie, pose nude for the photos, and show them to the police at Police HQ before they can take them to trial. While the police escort Ekdol away, The Dynamic Duo catch a cab for the girls and drive them to The Batcave, where they meet Trick-O-N's bodyguards. They cover their tracks and head for The Cave, where the Riddler and his felonious film-crew are filming a sequence in which Robin is about to be pushed off a high ledge to plummet to his death on the street below…  As The Dynamic Duo speeds back to The Batcave, Batman suspects foul play because of a comment made by the trustee dealing with The Batmobile's speed, and he immediately stops the car and disables the car-bomb just before it can go off! Quick as a blink, The Peerless Pair speed back to the prison to check on The Parkers. However, clever playacting convinces them that all is well there. Ma then holds a meeting of the prison inmates and informs them of her plan for using The Gotham State Pen as a hideout while Batman & Robin do their work by send more crooks to fatten her jailhouse gang. (After All, Why Pay Attention To Cat Paw?) character beginning with winking music from the Bruce Wayne and Dick Grason Piano Company Piano Company.  Picking up from the last episode, The Dynamic Duo get into a cab after work from The Batcave, only to be followed by Batman & Robin who, having just gotten out of their Uber, decide to take the taxi back to their hideout. Returning to see if the episode has finished, The Joker and his felonious film-crew are jumped on by Robin and takes him into custody. Following the accident that left him unable to walk for nearly three hours, Joker takes Joker to mean Schwarzenegger Manor in The Batcave. There, he showers the victims with deux victors, then leaves a message for Alfred Pennyworth and Bruce Wayne and giving him the go-ahead to come back at night. However, Joker's body was never recovered, so it was assumable he would live to plague Gotham City another day, but not if Batman and Robin can help it.   Awaiting release from prison, the Penguin, the \"pompous, waddling master of fowl play\", schemes to get Batman, to plan his crimes for him; his first step is to attract Batman's attention. Penguin has his henchmen Hawkeye and Sparrow distribute free umbrellas to patrons outside the House of Ali Baba Jewelery store and a local bank. The men passing them out call it a promotion, but the owners of the jewelry store and bank know that they were not hired by them. While everyone's inside with the umbrellas, they explode and start spinning and cause a distraction, however even though it was the perfect setup for Hawkeye and Sparrow to commit a robbery, no heist was pulled. When Commissioner James Gordon hears of it, he knows Penguin has returned and calls Batman and Robin in to investigate. Along with Warden Crichton, they view Penguin's security camera from prison and were able to find out little on his next crime. Batman and Robin decide pay a call on Penguin, who, under the alias K.G. Bird (\"cagey bird\") now operates an umbrella store. As soon as they leave, Penguin launches a monster umbrella, featuring a multicolored umbrella (complete with Oswald's hidden transmitter) attached to its handle, from his store's roof The umbrella lands in the middle of the street, and the Duo investigate. While they discover nothing special about it beyond its\n",
            "\n",
            "[810 | 2032.06] loss=0.02 avg=0.12\n",
            "[820 | 2056.27] loss=0.02 avg=0.12\n",
            "[830 | 2080.58] loss=0.02 avg=0.12\n",
            "[840 | 2104.97] loss=0.02 avg=0.12\n",
            "[850 | 2129.39] loss=0.02 avg=0.12\n",
            "[860 | 2153.81] loss=0.02 avg=0.11\n",
            "[870 | 2178.22] loss=0.02 avg=0.11\n",
            "[880 | 2202.57] loss=0.02 avg=0.11\n",
            "[890 | 2226.96] loss=0.02 avg=0.11\n",
            "[900 | 2251.34] loss=0.02 avg=0.11\n",
            "[910 | 2275.68] loss=0.02 avg=0.11\n",
            "[920 | 2299.98] loss=0.02 avg=0.10\n",
            "[930 | 2324.27] loss=0.02 avg=0.10\n",
            "[940 | 2348.54] loss=0.02 avg=0.10\n",
            "[950 | 2372.84] loss=0.01 avg=0.10\n",
            "[960 | 2397.11] loss=0.02 avg=0.10\n",
            "[970 | 2421.36] loss=0.02 avg=0.10\n",
            "[980 | 2445.62] loss=0.01 avg=0.10\n",
            "[990 | 2469.85] loss=0.02 avg=0.10\n",
            "[1000 | 2494.08] loss=0.03 avg=0.09\n",
            "Saving checkpoint/batman_66/model-1000\n"
          ],
          "name": "stdout"
        },
        {
          "output_type": "stream",
          "text": [
            "W0620 17:31:30.746577 139703747852160 deprecation.py:323] From /usr/local/lib/python3.6/dist-packages/tensorflow/python/training/saver.py:960: remove_checkpoint (from tensorflow.python.training.checkpoint_management) is deprecated and will be removed in a future version.\n",
            "Instructions for updating:\n",
            "Use standard file APIs to delete files with this prefix.\n"
          ],
          "name": "stderr"
        }
      ]
    },
    {
      "cell_type": "markdown",
      "metadata": {
        "id": "IXSuTNERaw6K",
        "colab_type": "text"
      },
      "source": [
        "### Copying checkpoints to Google Drive"
      ]
    },
    {
      "cell_type": "code",
      "metadata": {
        "id": "VHdTL8NDbAh3",
        "colab_type": "code",
        "colab": {}
      },
      "source": [
        "gpt2.copy_checkpoint_to_gdrive(run_name='batman_66')"
      ],
      "execution_count": 0,
      "outputs": []
    },
    {
      "cell_type": "markdown",
      "metadata": {
        "id": "r_13HkWAfyTh",
        "colab_type": "text"
      },
      "source": [
        "Once this is complete, I downloaded the checkpoint .rar file to unpack and start to test."
      ]
    }
  ]
}