{
 "cells": [
  {
   "cell_type": "code",
   "execution_count": 1,
   "metadata": {},
   "outputs": [],
   "source": [
    "import pandas as pd\n",
    "import gpt_2_simple as gpt2\n",
    "import pickle"
   ]
  },
  {
   "cell_type": "markdown",
   "metadata": {},
   "source": [
    "## Running the model locally\n",
    "After finetuning the GPT-2 model on my Batman plot data, I downloaded it locally, unpacked it, and it sits in the folder called \"checkpoint/batman66_1000\".  Using `gpt_2_simple` makes it easy to take that model and now use it to generate new text locally. The code has several deprication warning regarding Tensorflow 2.0 (much of the source being written on Tensorflow 1), but it works without issue. "
   ]
  },
  {
   "cell_type": "code",
   "execution_count": 2,
   "metadata": {},
   "outputs": [
    {
     "name": "stderr",
     "output_type": "stream",
     "text": [
      "WARNING: Logging before flag parsing goes to stderr.\n",
      "W0620 12:55:31.885413 140736022479744 deprecation_wrapper.py:119] From /Users/nawjux/anaconda3/envs/learn-env/lib/python3.6/site-packages/gpt_2_simple/gpt_2.py:90: The name tf.ConfigProto is deprecated. Please use tf.compat.v1.ConfigProto instead.\n",
      "\n",
      "W0620 12:55:31.888916 140736022479744 deprecation_wrapper.py:119] From /Users/nawjux/anaconda3/envs/learn-env/lib/python3.6/site-packages/gpt_2_simple/gpt_2.py:100: The name tf.Session is deprecated. Please use tf.compat.v1.Session instead.\n",
      "\n"
     ]
    }
   ],
   "source": [
    "sess = gpt2.start_tf_sess()"
   ]
  },
  {
   "cell_type": "code",
   "execution_count": 3,
   "metadata": {},
   "outputs": [
    {
     "name": "stderr",
     "output_type": "stream",
     "text": [
      "W0620 12:55:32.472869 140736022479744 deprecation_wrapper.py:119] From /Users/nawjux/anaconda3/envs/learn-env/lib/python3.6/site-packages/gpt_2_simple/gpt_2.py:340: The name tf.placeholder is deprecated. Please use tf.compat.v1.placeholder instead.\n",
      "\n",
      "W0620 12:55:32.478475 140736022479744 deprecation_wrapper.py:119] From /Users/nawjux/anaconda3/envs/learn-env/lib/python3.6/site-packages/gpt_2_simple/src/model.py:147: The name tf.variable_scope is deprecated. Please use tf.compat.v1.variable_scope instead.\n",
      "\n",
      "W0620 12:55:32.490474 140736022479744 deprecation_wrapper.py:119] From /Users/nawjux/anaconda3/envs/learn-env/lib/python3.6/site-packages/gpt_2_simple/src/model.py:151: The name tf.get_variable is deprecated. Please use tf.compat.v1.get_variable instead.\n",
      "\n",
      "W0620 12:55:36.457430 140736022479744 deprecation_wrapper.py:119] From /Users/nawjux/anaconda3/envs/learn-env/lib/python3.6/site-packages/gpt_2_simple/gpt_2.py:344: The name tf.train.Saver is deprecated. Please use tf.compat.v1.train.Saver instead.\n",
      "\n",
      "W0620 12:55:38.595676 140736022479744 deprecation.py:323] From /Users/nawjux/anaconda3/envs/learn-env/lib/python3.6/site-packages/tensorflow/python/training/saver.py:1276: checkpoint_exists (from tensorflow.python.training.checkpoint_management) is deprecated and will be removed in a future version.\n",
      "Instructions for updating:\n",
      "Use standard file APIs to check for files with this prefix.\n"
     ]
    },
    {
     "name": "stdout",
     "output_type": "stream",
     "text": [
      "Loading checkpoint checkpoint/batman_66/model-1000\n"
     ]
    }
   ],
   "source": [
    "gpt2.load_gpt2(sess, run_name='batman_66')"
   ]
  },
  {
   "cell_type": "code",
   "execution_count": 8,
   "metadata": {},
   "outputs": [],
   "source": [
    "def return_next_sentence(text):\n",
    "    len_text = len(text.split()) + 30\n",
    "    gen_text = gpt2.generate(sess,\n",
    "                             length=len_text,\n",
    "                             temperature=.7,\n",
    "                             prefix=text,\n",
    "                             return_as_list=True)[0]\n",
    "    next_sentence = gen_text.split(\".\")[1] + \".\"\n",
    "    return next_sentence"
   ]
  },
  {
   "cell_type": "code",
   "execution_count": 9,
   "metadata": {},
   "outputs": [
    {
     "name": "stderr",
     "output_type": "stream",
     "text": [
      "W0620 12:56:37.007577 140736022479744 deprecation.py:323] From /Users/nawjux/anaconda3/envs/learn-env/lib/python3.6/site-packages/gpt_2_simple/src/sample.py:71: to_float (from tensorflow.python.ops.math_ops) is deprecated and will be removed in a future version.\n",
      "Instructions for updating:\n",
      "Use `tf.cast` instead.\n",
      "W0620 12:56:37.012800 140736022479744 deprecation.py:323] From /Users/nawjux/anaconda3/envs/learn-env/lib/python3.6/site-packages/gpt_2_simple/src/sample.py:77: multinomial (from tensorflow.python.ops.random_ops) is deprecated and will be removed in a future version.\n",
      "Instructions for updating:\n",
      "Use `tf.random.categorical` instead.\n"
     ]
    },
    {
     "data": {
      "text/plain": [
       "' He receives a medal by The GCPD for bravery; then is saddened to learn that Chandell is going on a 20-year \"world tour\" (behind bars, with.'"
      ]
     },
     "execution_count": 9,
     "metadata": {},
     "output_type": "execute_result"
    }
   ],
   "source": [
    "return_next_sentence(\"Batman is eating a sandwich.\")"
   ]
  },
  {
   "cell_type": "code",
   "execution_count": null,
   "metadata": {},
   "outputs": [],
   "source": []
  }
 ],
 "metadata": {
  "kernelspec": {
   "display_name": "Python 3",
   "language": "python",
   "name": "python3"
  },
  "language_info": {
   "codemirror_mode": {
    "name": "ipython",
    "version": 3
   },
   "file_extension": ".py",
   "mimetype": "text/x-python",
   "name": "python",
   "nbconvert_exporter": "python",
   "pygments_lexer": "ipython3",
   "version": "3.6.6"
  }
 },
 "nbformat": 4,
 "nbformat_minor": 2
}
